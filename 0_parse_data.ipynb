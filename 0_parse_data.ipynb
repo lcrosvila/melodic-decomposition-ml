{
 "cells": [
  {
   "cell_type": "code",
   "execution_count": 1,
   "metadata": {},
   "outputs": [],
   "source": [
    "import numpy as np\n",
    "import pandas as pd\n",
    "import music21\n",
    "import re\n",
    "from tqdm import tqdm\n",
    "\n",
    "# set a random seed\n",
    "np.random.seed(42)"
   ]
  },
  {
   "cell_type": "code",
   "execution_count": 2,
   "metadata": {},
   "outputs": [],
   "source": [
    "data_path = \"data/\"\n",
    "collections = [\"ONeillsJigs\", \"folkrnnv2bs_100001jigs\"]"
   ]
  },
  {
   "cell_type": "code",
   "execution_count": 3,
   "metadata": {},
   "outputs": [
    {
     "name": "stdout",
     "output_type": "stream",
     "text": [
      "Processing data/collection_ONeillsJigs\n",
      "Processing data/collection_folkrnnv2bs_100001jigs\n"
     ]
    }
   ],
   "source": [
    "dataframes = {}\n",
    "\n",
    "for collection_name in collections:\n",
    "    FILENAME = data_path + \"collection_\" + collection_name\n",
    "    print(\"Processing\", FILENAME)\n",
    "    with open(FILENAME, encoding=\"utf-8\") as f:\n",
    "        data = f.read()\n",
    "    files = data.split(\"\\n\\n\")\n",
    "    dictionary = {\"title\": [], \"time_signature\": [], \"key\": [], \"abcdata\": [], \"abc_raw\": []}\n",
    "    for f in files:\n",
    "        regexp = r\"^(T:)?(?P<title>.*)?(\\nM:)?(?P<time_signature>.*)?(\\nK:)?(?P<key>.*)?(\\n)?(?P<abcdata>.*)?$\"\n",
    "        m = re.match(regexp, f, re.M)\n",
    "        d = m.groupdict()\n",
    "        [dictionary[k].append(v) for k, v in d.items()]\n",
    "        dictionary[\"abc_raw\"].append(f)\n",
    "\n",
    "    df = pd.DataFrame.from_dict(dictionary)\n",
    "    \n",
    "    dataframes[collection_name] = df"
   ]
  },
  {
   "cell_type": "code",
   "execution_count": 4,
   "metadata": {},
   "outputs": [
    {
     "name": "stdout",
     "output_type": "stream",
     "text": [
      "Error in expanding repeats for song 51352\n",
      "Error in expanding repeats for song 41267\n"
     ]
    }
   ],
   "source": [
    "for collection_name, df in dataframes.items():\n",
    "    empty_df = pd.DataFrame(columns=[\"title\", \"time_signature\", \"key\", \"abcdata\"])\n",
    "\n",
    "    if len(df) > 365:\n",
    "        while len(empty_df) < 365:\n",
    "            # randomly sample a song\n",
    "            song = df.sample(1)\n",
    "            if song.index in [43341, 78322, 25461]:\n",
    "                # this song is not valid, should be fixed in the dataset\n",
    "                continue\n",
    "            abcstr = (\n",
    "                \"X:1\\nM:\"\n",
    "                + song.time_signature.values[0]\n",
    "                + \"\\nK:\"\n",
    "                + song.key.values[0]\n",
    "                + \"\\n\"\n",
    "                + \"\".join(song.abcdata.values[0].split())\n",
    "            )\n",
    "            s1 = music21.converter.parseData(abcstr)\n",
    "            if \":|\" in abcstr:\n",
    "                try:\n",
    "                    # count how many times the repeat occurs\n",
    "                    s1 = s1.expandRepeats()\n",
    "                except music21.repeat.ExpanderException as e:\n",
    "                    # the tune is not valid, should be fixed in the dataset\n",
    "                    print(\"Error in expanding repeats for song\", song.title.values[0])\n",
    "                    continue\n",
    "            # append the song\n",
    "            empty_df = pd.concat([empty_df, song], ignore_index=True)\n",
    "            df.drop(song.index, inplace=True)\n",
    "\n",
    "        df = empty_df\n",
    "        dataframes[collection_name] = df"
   ]
  },
  {
   "cell_type": "code",
   "execution_count": 5,
   "metadata": {},
   "outputs": [
    {
     "name": "stdout",
     "output_type": "stream",
     "text": [
      "Processing ONeillsJigs\n"
     ]
    },
    {
     "name": "stderr",
     "output_type": "stream",
     "text": [
      "  5%|▌         | 19/365 [00:02<00:30, 11.48it/s]"
     ]
    },
    {
     "name": "stdout",
     "output_type": "stream",
     "text": [
      "Error in reshaping song Saddle the pony, PitchRep length: 1158. Padding the end with zeros.\n"
     ]
    },
    {
     "name": "stderr",
     "output_type": "stream",
     "text": [
      "  7%|▋         | 25/365 [00:02<00:21, 15.69it/s]"
     ]
    },
    {
     "name": "stdout",
     "output_type": "stream",
     "text": [
      "Error in reshaping song The night cap, PitchRep length: 1158. Padding the end with zeros.\n"
     ]
    },
    {
     "name": "stderr",
     "output_type": "stream",
     "text": [
      "  7%|▋         | 27/365 [00:02<00:22, 15.24it/s]"
     ]
    },
    {
     "name": "stdout",
     "output_type": "stream",
     "text": [
      "Error in reshaping song Jackson's frieze coat, PitchRep length: 1729. Padding the end with zeros.\n"
     ]
    },
    {
     "name": "stderr",
     "output_type": "stream",
     "text": [
      "  8%|▊         | 31/365 [00:03<00:29, 11.30it/s]"
     ]
    },
    {
     "name": "stdout",
     "output_type": "stream",
     "text": [
      "Error in reshaping song Cherish the ladies, PitchRep length: 3462. Padding the end with zeros.\n"
     ]
    },
    {
     "name": "stderr",
     "output_type": "stream",
     "text": [
      " 13%|█▎        | 47/365 [00:04<00:23, 13.48it/s]"
     ]
    },
    {
     "name": "stdout",
     "output_type": "stream",
     "text": [
      "Error in reshaping song Out with the boys, PitchRep length: 1729. Padding the end with zeros.\n"
     ]
    },
    {
     "name": "stderr",
     "output_type": "stream",
     "text": [
      " 22%|██▏       | 79/365 [00:06<00:19, 14.96it/s]"
     ]
    },
    {
     "name": "stdout",
     "output_type": "stream",
     "text": [
      "Error in reshaping song Happy to meet and sorry to part, PitchRep length: 1158. Padding the end with zeros.\n"
     ]
    },
    {
     "name": "stderr",
     "output_type": "stream",
     "text": [
      " 23%|██▎       | 85/365 [00:06<00:16, 16.88it/s]"
     ]
    },
    {
     "name": "stdout",
     "output_type": "stream",
     "text": [
      "Error in reshaping song Doherty's fancy, PitchRep length: 1153. Padding the end with zeros.\n",
      "Error in reshaping song Wellington's advance, PitchRep length: 1153. Padding the end with zeros.\n"
     ]
    },
    {
     "name": "stderr",
     "output_type": "stream",
     "text": [
      " 27%|██▋       | 97/365 [00:07<00:15, 17.16it/s]"
     ]
    },
    {
     "name": "stdout",
     "output_type": "stream",
     "text": [
      "Error in reshaping song The straw seat, PitchRep length: 1153. Padding the end with zeros.\n"
     ]
    },
    {
     "name": "stderr",
     "output_type": "stream",
     "text": [
      " 30%|███       | 111/365 [00:08<00:15, 16.13it/s]"
     ]
    },
    {
     "name": "stdout",
     "output_type": "stream",
     "text": [
      "Error in reshaping song The tailor's wedding, PitchRep length: 1153. Padding the end with zeros.\n"
     ]
    },
    {
     "name": "stderr",
     "output_type": "stream",
     "text": [
      " 32%|███▏      | 115/365 [00:08<00:14, 17.12it/s]"
     ]
    },
    {
     "name": "stdout",
     "output_type": "stream",
     "text": [
      "Error in reshaping song The best in the bag, PitchRep length: 1153. Padding the end with zeros.\n"
     ]
    },
    {
     "name": "stderr",
     "output_type": "stream",
     "text": [
      " 33%|███▎      | 119/365 [00:08<00:16, 15.26it/s]"
     ]
    },
    {
     "name": "stdout",
     "output_type": "stream",
     "text": [
      "Error in reshaping song The highlander, PitchRep length: 1158. Padding the end with zeros.\n"
     ]
    },
    {
     "name": "stderr",
     "output_type": "stream",
     "text": [
      " 34%|███▍      | 125/365 [00:09<00:13, 17.43it/s]"
     ]
    },
    {
     "name": "stdout",
     "output_type": "stream",
     "text": [
      "Error in reshaping song Wasn't she fond of me?, PitchRep length: 1158. Padding the end with zeros.\n"
     ]
    },
    {
     "name": "stderr",
     "output_type": "stream",
     "text": [
      " 35%|███▌      | 129/365 [00:09<00:18, 12.68it/s]"
     ]
    },
    {
     "name": "stdout",
     "output_type": "stream",
     "text": [
      "Error in reshaping song Wise Nora, PitchRep length: 3468. Padding the end with zeros.\n",
      "Error in reshaping song Larry O'Gaff, PitchRep length: 1153. Padding the end with zeros.\n"
     ]
    },
    {
     "name": "stderr",
     "output_type": "stream",
     "text": [
      " 38%|███▊      | 139/365 [00:10<00:16, 13.96it/s]"
     ]
    },
    {
     "name": "stdout",
     "output_type": "stream",
     "text": [
      "Error in reshaping song Snug in the blanket, PitchRep length: 1734. Padding the end with zeros.\n"
     ]
    },
    {
     "name": "stderr",
     "output_type": "stream",
     "text": [
      " 41%|████      | 149/365 [00:11<00:20, 10.52it/s]"
     ]
    },
    {
     "name": "stdout",
     "output_type": "stream",
     "text": [
      "Error in reshaping song The Kinnegad slashers, PitchRep length: 1729. Padding the end with zeros.\n"
     ]
    },
    {
     "name": "stderr",
     "output_type": "stream",
     "text": [
      " 42%|████▏     | 153/365 [00:11<00:16, 12.73it/s]"
     ]
    },
    {
     "name": "stdout",
     "output_type": "stream",
     "text": [
      "Error in reshaping song Nancy Hynes, PitchRep length: 1729. Padding the end with zeros.\n"
     ]
    },
    {
     "name": "stderr",
     "output_type": "stream",
     "text": [
      " 46%|████▋     | 169/365 [00:12<00:13, 14.72it/s]"
     ]
    },
    {
     "name": "stdout",
     "output_type": "stream",
     "text": [
      "Error in reshaping song The boys of Ballinamore, PitchRep length: 1158. Padding the end with zeros.\n"
     ]
    },
    {
     "name": "stderr",
     "output_type": "stream",
     "text": [
      " 48%|████▊     | 177/365 [00:13<00:10, 17.12it/s]"
     ]
    },
    {
     "name": "stdout",
     "output_type": "stream",
     "text": [
      "Error in reshaping song The end of the day, PitchRep length: 1158. Padding the end with zeros.\n",
      "Error in reshaping song Owen Malone, PitchRep length: 1158. Padding the end with zeros.\n"
     ]
    },
    {
     "name": "stderr",
     "output_type": "stream",
     "text": [
      " 53%|█████▎    | 194/365 [00:14<00:10, 15.75it/s]"
     ]
    },
    {
     "name": "stdout",
     "output_type": "stream",
     "text": [
      "Error in reshaping song The boy from the mountain, PitchRep length: 1153. Padding the end with zeros.\n"
     ]
    },
    {
     "name": "stderr",
     "output_type": "stream",
     "text": [
      " 58%|█████▊    | 210/365 [00:15<00:10, 14.40it/s]"
     ]
    },
    {
     "name": "stdout",
     "output_type": "stream",
     "text": [
      "Error in reshaping song Miss Wiseman's fancy, PitchRep length: 1729. Padding the end with zeros.\n"
     ]
    },
    {
     "name": "stderr",
     "output_type": "stream",
     "text": [
      " 58%|█████▊    | 212/365 [00:15<00:11, 13.44it/s]"
     ]
    },
    {
     "name": "stdout",
     "output_type": "stream",
     "text": [
      "Error in reshaping song My brother Tom, PitchRep length: 1158. Padding the end with zeros.\n"
     ]
    },
    {
     "name": "stderr",
     "output_type": "stream",
     "text": [
      " 60%|██████    | 220/365 [00:16<00:11, 12.91it/s]"
     ]
    },
    {
     "name": "stdout",
     "output_type": "stream",
     "text": [
      "Error in reshaping song The Connachtman's rambles, PitchRep length: 1153. Padding the end with zeros.\n"
     ]
    },
    {
     "name": "stderr",
     "output_type": "stream",
     "text": [
      " 64%|██████▎   | 232/365 [00:17<00:10, 12.45it/s]"
     ]
    },
    {
     "name": "stdout",
     "output_type": "stream",
     "text": [
      "Error in reshaping song Mixing the punch, PitchRep length: 1153. Padding the end with zeros.\n"
     ]
    },
    {
     "name": "stderr",
     "output_type": "stream",
     "text": [
      " 66%|██████▌   | 240/365 [00:18<00:09, 12.94it/s]"
     ]
    },
    {
     "name": "stdout",
     "output_type": "stream",
     "text": [
      "Error in reshaping song The old horned sheep, PitchRep length: 1159. Padding the end with zeros.\n",
      "Error in reshaping song Sergt Stack's favorite, PitchRep length: 1158. Padding the end with zeros.\n"
     ]
    },
    {
     "name": "stderr",
     "output_type": "stream",
     "text": [
      " 67%|██████▋   | 244/365 [00:18<00:08, 14.87it/s]"
     ]
    },
    {
     "name": "stdout",
     "output_type": "stream",
     "text": [
      "Error in reshaping song The Mountaineers' march, PitchRep length: 1153. Padding the end with zeros.\n"
     ]
    },
    {
     "name": "stderr",
     "output_type": "stream",
     "text": [
      " 70%|███████   | 256/365 [00:19<00:08, 13.34it/s]"
     ]
    },
    {
     "name": "stdout",
     "output_type": "stream",
     "text": [
      "Error in reshaping song The humors of Dingle, PitchRep length: 1153. Padding the end with zeros.\n",
      "Error in reshaping song Morgan Rattler, PitchRep length: 5766. Padding the end with zeros.\n"
     ]
    },
    {
     "name": "stderr",
     "output_type": "stream",
     "text": [
      " 77%|███████▋  | 282/365 [00:21<00:06, 12.99it/s]"
     ]
    },
    {
     "name": "stdout",
     "output_type": "stream",
     "text": [
      "Error in reshaping song Going to Donnybrook, PitchRep length: 1158. Padding the end with zeros.\n"
     ]
    },
    {
     "name": "stderr",
     "output_type": "stream",
     "text": [
      " 81%|████████  | 296/365 [00:23<00:05, 13.54it/s]"
     ]
    },
    {
     "name": "stdout",
     "output_type": "stream",
     "text": [
      "Error in reshaping song The rivals, PitchRep length: 1734. Padding the end with zeros.\n"
     ]
    },
    {
     "name": "stderr",
     "output_type": "stream",
     "text": [
      " 82%|████████▏ | 298/365 [00:23<00:05, 12.00it/s]"
     ]
    },
    {
     "name": "stdout",
     "output_type": "stream",
     "text": [
      "Error in reshaping song Johnny the jumper, PitchRep length: 1158. Padding the end with zeros.\n"
     ]
    },
    {
     "name": "stderr",
     "output_type": "stream",
     "text": [
      " 84%|████████▍ | 306/365 [00:23<00:04, 12.80it/s]"
     ]
    },
    {
     "name": "stdout",
     "output_type": "stream",
     "text": [
      "Error in reshaping song The blooming meadows, PitchRep length: 1153. Padding the end with zeros.\n"
     ]
    },
    {
     "name": "stderr",
     "output_type": "stream",
     "text": [
      " 85%|████████▌ | 312/365 [00:24<00:03, 15.60it/s]"
     ]
    },
    {
     "name": "stdout",
     "output_type": "stream",
     "text": [
      "Error in reshaping song The bridal jig, PitchRep length: 1158. Padding the end with zeros.\n",
      "Error in reshaping song The man in the moon, PitchRep length: 1153. Padding the end with zeros.\n",
      "Error in reshaping song The frost is all over, PitchRep length: 1158. Padding the end with zeros.\n"
     ]
    },
    {
     "name": "stderr",
     "output_type": "stream",
     "text": [
      " 88%|████████▊ | 320/365 [00:24<00:03, 14.53it/s]"
     ]
    },
    {
     "name": "stdout",
     "output_type": "stream",
     "text": [
      "Error in reshaping song The merry huntsman, PitchRep length: 1158. Padding the end with zeros.\n"
     ]
    },
    {
     "name": "stderr",
     "output_type": "stream",
     "text": [
      " 91%|█████████ | 332/365 [00:25<00:02, 12.68it/s]"
     ]
    },
    {
     "name": "stdout",
     "output_type": "stream",
     "text": [
      "Error in reshaping song The queen of the fair, PitchRep length: 1729. Padding the end with zeros.\n",
      "Error in reshaping song The maids of Ballinacarty, PitchRep length: 1153. Padding the end with zeros.\n"
     ]
    },
    {
     "name": "stderr",
     "output_type": "stream",
     "text": [
      "100%|██████████| 365/365 [00:28<00:00, 12.99it/s]\n"
     ]
    },
    {
     "name": "stdout",
     "output_type": "stream",
     "text": [
      "Processing folkrnnv2bs_100001jigs\n"
     ]
    },
    {
     "name": "stderr",
     "output_type": "stream",
     "text": [
      "  1%|          | 3/365 [00:00<00:19, 18.36it/s]"
     ]
    },
    {
     "name": "stdout",
     "output_type": "stream",
     "text": [
      "Error in reshaping song 95121, PitchRep length: 1740. Padding the end with zeros.\n"
     ]
    },
    {
     "name": "stderr",
     "output_type": "stream",
     "text": [
      "  7%|▋         | 25/365 [00:01<00:19, 17.12it/s]"
     ]
    },
    {
     "name": "stdout",
     "output_type": "stream",
     "text": [
      "Error in reshaping song 78323, PitchRep length: 1164. Padding the end with zeros.\n"
     ]
    },
    {
     "name": "stderr",
     "output_type": "stream",
     "text": [
      " 13%|█▎        | 46/365 [00:02<00:19, 15.96it/s]"
     ]
    },
    {
     "name": "stdout",
     "output_type": "stream",
     "text": [
      "Error in reshaping song 74066, PitchRep length: 1164. Padding the end with zeros.\n"
     ]
    },
    {
     "name": "stderr",
     "output_type": "stream",
     "text": [
      " 17%|█▋        | 62/365 [00:03<00:16, 17.94it/s]"
     ]
    },
    {
     "name": "stdout",
     "output_type": "stream",
     "text": [
      "Error in reshaping song 27897, PitchRep length: 1164. Padding the end with zeros.\n",
      "Error in reshaping song 41423, PitchRep length: 1176. Padding the end with zeros.\n"
     ]
    },
    {
     "name": "stderr",
     "output_type": "stream",
     "text": [
      " 18%|█▊        | 67/365 [00:04<00:16, 18.16it/s]"
     ]
    },
    {
     "name": "stdout",
     "output_type": "stream",
     "text": [
      "Error in reshaping song 1454, PitchRep length: 1164. Padding the end with zeros.\n",
      "Error in reshaping song 59827, PitchRep length: 1722. Padding the end with zeros.\n"
     ]
    },
    {
     "name": "stderr",
     "output_type": "stream",
     "text": [
      " 21%|██▏       | 78/365 [00:04<00:15, 18.52it/s]"
     ]
    },
    {
     "name": "stdout",
     "output_type": "stream",
     "text": [
      "Error in reshaping song 47371, PitchRep length: 1158. Padding the end with zeros.\n",
      "Error in reshaping song 19659, PitchRep length: 1146. Padding the end with zeros.\n"
     ]
    },
    {
     "name": "stderr",
     "output_type": "stream",
     "text": [
      " 23%|██▎       | 85/365 [00:05<00:16, 16.75it/s]"
     ]
    },
    {
     "name": "stdout",
     "output_type": "stream",
     "text": [
      "Error in reshaping song 89037, PitchRep length: 1146. Padding the end with zeros.\n"
     ]
    },
    {
     "name": "stderr",
     "output_type": "stream",
     "text": [
      " 24%|██▍       | 89/365 [00:05<00:15, 17.66it/s]"
     ]
    },
    {
     "name": "stdout",
     "output_type": "stream",
     "text": [
      "Error in reshaping song 33618, PitchRep length: 1164. Padding the end with zeros.\n",
      "Error in reshaping song 52854, PitchRep length: 1158. Padding the end with zeros.\n",
      "Error in reshaping song 6741, PitchRep length: 1140. Padding the end with zeros.\n"
     ]
    },
    {
     "name": "stderr",
     "output_type": "stream",
     "text": [
      " 25%|██▌       | 93/365 [00:05<00:17, 15.74it/s]"
     ]
    },
    {
     "name": "stdout",
     "output_type": "stream",
     "text": [
      "Error in reshaping song 58553, PitchRep length: 1740. Padding the end with zeros.\n",
      "Error in reshaping song 30870, PitchRep length: 870. Padding the end with zeros.\n"
     ]
    },
    {
     "name": "stderr",
     "output_type": "stream",
     "text": [
      " 27%|██▋       | 99/365 [00:05<00:13, 19.93it/s]"
     ]
    },
    {
     "name": "stdout",
     "output_type": "stream",
     "text": [
      "Error in reshaping song 22068, PitchRep length: 1140. Padding the end with zeros.\n"
     ]
    },
    {
     "name": "stderr",
     "output_type": "stream",
     "text": [
      " 32%|███▏      | 118/365 [00:07<00:16, 15.29it/s]"
     ]
    },
    {
     "name": "stdout",
     "output_type": "stream",
     "text": [
      "Error in reshaping song 42482, PitchRep length: 1164. Padding the end with zeros.\n"
     ]
    },
    {
     "name": "stderr",
     "output_type": "stream",
     "text": [
      " 36%|███▋      | 133/365 [00:07<00:13, 17.43it/s]"
     ]
    },
    {
     "name": "stdout",
     "output_type": "stream",
     "text": [
      "Error in reshaping song 19540, PitchRep length: 1164. Padding the end with zeros.\n",
      "Error in reshaping song 33136, PitchRep length: 1158. Padding the end with zeros.\n"
     ]
    },
    {
     "name": "stderr",
     "output_type": "stream",
     "text": [
      " 42%|████▏     | 152/365 [00:09<00:12, 17.23it/s]"
     ]
    },
    {
     "name": "stdout",
     "output_type": "stream",
     "text": [
      "Error in reshaping song 28120, PitchRep length: 1164. Padding the end with zeros.\n",
      "Error in reshaping song 46366, PitchRep length: 1740. Padding the end with zeros.\n"
     ]
    },
    {
     "name": "stderr",
     "output_type": "stream",
     "text": [
      " 44%|████▍     | 160/365 [00:09<00:12, 16.50it/s]"
     ]
    },
    {
     "name": "stdout",
     "output_type": "stream",
     "text": [
      "Error in reshaping song 78880, PitchRep length: 1158. Padding the end with zeros.\n",
      "Error in reshaping song 8087, PitchRep length: 1146. Padding the end with zeros.\n"
     ]
    },
    {
     "name": "stderr",
     "output_type": "stream",
     "text": [
      " 45%|████▍     | 164/365 [00:09<00:13, 14.44it/s]"
     ]
    },
    {
     "name": "stdout",
     "output_type": "stream",
     "text": [
      "Error in reshaping song 64480, PitchRep length: 1158. Padding the end with zeros.\n"
     ]
    },
    {
     "name": "stderr",
     "output_type": "stream",
     "text": [
      " 47%|████▋     | 171/365 [00:10<00:11, 17.48it/s]"
     ]
    },
    {
     "name": "stdout",
     "output_type": "stream",
     "text": [
      "Error in reshaping song 74453, PitchRep length: 1128. Padding the end with zeros.\n"
     ]
    },
    {
     "name": "stderr",
     "output_type": "stream",
     "text": [
      " 50%|█████     | 183/365 [00:11<00:11, 16.45it/s]"
     ]
    },
    {
     "name": "stdout",
     "output_type": "stream",
     "text": [
      "Error in reshaping song 57323, PitchRep length: 1146. Padding the end with zeros.\n",
      "Error in reshaping song 48620, PitchRep length: 1128. Padding the end with zeros.\n"
     ]
    },
    {
     "name": "stderr",
     "output_type": "stream",
     "text": [
      " 55%|█████▌    | 201/365 [00:12<00:10, 16.13it/s]"
     ]
    },
    {
     "name": "stdout",
     "output_type": "stream",
     "text": [
      "Error in reshaping song 40507, PitchRep length: 1158. Padding the end with zeros.\n"
     ]
    },
    {
     "name": "stderr",
     "output_type": "stream",
     "text": [
      " 57%|█████▋    | 207/365 [00:12<00:09, 15.87it/s]"
     ]
    },
    {
     "name": "stdout",
     "output_type": "stream",
     "text": [
      "Error in reshaping song 73529, PitchRep length: 1140. Padding the end with zeros.\n"
     ]
    },
    {
     "name": "stderr",
     "output_type": "stream",
     "text": [
      " 58%|█████▊    | 213/365 [00:13<00:10, 14.25it/s]"
     ]
    },
    {
     "name": "stdout",
     "output_type": "stream",
     "text": [
      "Error in reshaping song 48903, PitchRep length: 1158. Padding the end with zeros.\n"
     ]
    },
    {
     "name": "stderr",
     "output_type": "stream",
     "text": [
      " 60%|██████    | 220/365 [00:13<00:09, 16.05it/s]"
     ]
    },
    {
     "name": "stdout",
     "output_type": "stream",
     "text": [
      "Error in reshaping song 59984, PitchRep length: 1746. Padding the end with zeros.\n",
      "Error in reshaping song 41822, PitchRep length: 1158. Padding the end with zeros.\n"
     ]
    },
    {
     "name": "stderr",
     "output_type": "stream",
     "text": [
      " 64%|██████▍   | 234/365 [00:14<00:08, 15.84it/s]"
     ]
    },
    {
     "name": "stdout",
     "output_type": "stream",
     "text": [
      "Error in reshaping song 96252, PitchRep length: 1158. Padding the end with zeros.\n"
     ]
    },
    {
     "name": "stderr",
     "output_type": "stream",
     "text": [
      " 67%|██████▋   | 244/365 [00:15<00:07, 15.21it/s]"
     ]
    },
    {
     "name": "stdout",
     "output_type": "stream",
     "text": [
      "Error in reshaping song 1196, PitchRep length: 1164. Padding the end with zeros.\n"
     ]
    },
    {
     "name": "stderr",
     "output_type": "stream",
     "text": [
      " 69%|██████▉   | 252/365 [00:15<00:07, 14.88it/s]"
     ]
    },
    {
     "name": "stdout",
     "output_type": "stream",
     "text": [
      "Error in reshaping song 49080, PitchRep length: 1164. Padding the end with zeros.\n"
     ]
    },
    {
     "name": "stderr",
     "output_type": "stream",
     "text": [
      " 70%|███████   | 256/365 [00:15<00:07, 15.26it/s]"
     ]
    },
    {
     "name": "stdout",
     "output_type": "stream",
     "text": [
      "Error in reshaping song 31107, PitchRep length: 1128. Padding the end with zeros.\n"
     ]
    },
    {
     "name": "stderr",
     "output_type": "stream",
     "text": [
      " 72%|███████▏  | 262/365 [00:16<00:05, 18.42it/s]"
     ]
    },
    {
     "name": "stdout",
     "output_type": "stream",
     "text": [
      "Error in reshaping song 42640, PitchRep length: 1170. Padding the end with zeros.\n"
     ]
    },
    {
     "name": "stderr",
     "output_type": "stream",
     "text": [
      " 77%|███████▋  | 280/365 [00:17<00:05, 16.07it/s]"
     ]
    },
    {
     "name": "stdout",
     "output_type": "stream",
     "text": [
      "Error in reshaping song 86372, PitchRep length: 1164. Padding the end with zeros.\n"
     ]
    },
    {
     "name": "stderr",
     "output_type": "stream",
     "text": [
      " 78%|███████▊  | 285/365 [00:17<00:04, 16.53it/s]"
     ]
    },
    {
     "name": "stdout",
     "output_type": "stream",
     "text": [
      "Error in reshaping song 86402, PitchRep length: 1164. Padding the end with zeros.\n",
      "Error in reshaping song 69375, PitchRep length: 1158. Padding the end with zeros.\n"
     ]
    },
    {
     "name": "stderr",
     "output_type": "stream",
     "text": [
      " 82%|████████▏ | 299/365 [00:18<00:04, 16.45it/s]"
     ]
    },
    {
     "name": "stdout",
     "output_type": "stream",
     "text": [
      "Error in reshaping song 17981, PitchRep length: 1176. Padding the end with zeros.\n"
     ]
    },
    {
     "name": "stderr",
     "output_type": "stream",
     "text": [
      " 89%|████████▉ | 326/365 [00:20<00:02, 16.10it/s]"
     ]
    },
    {
     "name": "stdout",
     "output_type": "stream",
     "text": [
      "Error in reshaping song 59107, PitchRep length: 1128. Padding the end with zeros.\n"
     ]
    },
    {
     "name": "stderr",
     "output_type": "stream",
     "text": [
      " 92%|█████████▏| 337/365 [00:21<00:01, 16.39it/s]"
     ]
    },
    {
     "name": "stdout",
     "output_type": "stream",
     "text": [
      "Error in reshaping song 71397, PitchRep length: 1146. Padding the end with zeros.\n",
      "Error in reshaping song 6227, PitchRep length: 1716. Padding the end with zeros.\n"
     ]
    },
    {
     "name": "stderr",
     "output_type": "stream",
     "text": [
      " 98%|█████████▊| 356/365 [00:22<00:00, 16.13it/s]"
     ]
    },
    {
     "name": "stdout",
     "output_type": "stream",
     "text": [
      "Error in reshaping song 87239, PitchRep length: 1698. Padding the end with zeros.\n",
      "Error in reshaping song 25144, PitchRep length: 1740. Padding the end with zeros.\n"
     ]
    },
    {
     "name": "stderr",
     "output_type": "stream",
     "text": [
      "100%|██████████| 365/365 [00:22<00:00, 15.97it/s]\n"
     ]
    }
   ],
   "source": [
    "# %% compute features\n",
    "# determining the sampling rate Fs (samples per quaver): \n",
    "# 1. the smallest time interval in the collection is triplet semiquavers, \n",
    "#    which means Fs should be a multiple of 3\n",
    "# 2. I also want a semiquaver to have a whole number of samples, so Fs \n",
    "#    should be a multiple of 2\n",
    "# 3. These mean Fs should be a multiple of 3*2 = 6. Let's make Fs=6\n",
    "# This makes an 8-measure part become a time series of length 6*6*8 = 288\n",
    "\n",
    "Fs = 6.0 # samples per quaver\n",
    "\n",
    "for collection_name, df in dataframes.items():\n",
    "    TimePitchTune = []\n",
    "    TimePitchBars = []\n",
    "    timespace = []\n",
    "    pitchspace = []\n",
    "\n",
    "    print(\"Processing\", collection_name)\n",
    "    for ii in tqdm(df.index):\n",
    "        # create ABC string\n",
    "        abcstr = 'X:1\\nM:'+df.time_signature[ii]+'\\nK:'+df.key[ii]+'\\n'+\"\".join(df.abcdata[ii].split())\n",
    "        # parse ABC string to music21 stream\n",
    "        s1 = music21.converter.parseData(abcstr)\n",
    "        # make repetitions explicit\n",
    "        if \":|\" in abcstr:\n",
    "            s1 = s1.expandRepeats()\n",
    "        # extract pitches and durations \n",
    "        pitches = []; durrep = [0]; beats = []\n",
    "        prevpitch = 0\n",
    "        for event in s1.flatten().notesAndRests:\n",
    "            if type(event) == music21.note.Note:\n",
    "                pitches.append(event.pitch.ps)\n",
    "                prevpitch = event.pitch\n",
    "            else:\n",
    "                pitches.append(prevpitch.ps)\n",
    "                \n",
    "            # take care of durations expressed as a fraction\n",
    "            if type(event.duration.quarterLength) == music21.common.numberTools.Fraction:\n",
    "                frac = event.duration.quarterLength\n",
    "                durrep.append(2*frac.numerator/frac.denominator)\n",
    "            else:\n",
    "                durrep.append(2*event.duration.quarterLength)\n",
    "                \n",
    "            if type(event.beat) == music21.common.numberTools.Fraction:\n",
    "                frac = event.beat\n",
    "                beats.append(3*frac.numerator/frac.denominator-2)\n",
    "            else:\n",
    "                beats.append(3*event.beat-2)\n",
    "\n",
    "        # account for anacrusis\n",
    "        if beats[0] != 1:\n",
    "            num2trim = int(6-beats[0]+1)\n",
    "            # append the elements\n",
    "            for p in pitches[1:num2trim+1]:\n",
    "                pitches.append(p)\n",
    "            for d in durrep[1:num2trim+1]:\n",
    "                durrep.append(d)\n",
    "            # remove them\n",
    "            pitches = [pitches[0]] + pitches[num2trim+1:]\n",
    "            durrep = [durrep[0]] + durrep[num2trim+1:] \n",
    "\n",
    "        # compute melody profile\n",
    "        nppsrep = np.array(pitches)\n",
    "        ts = np.cumsum(np.array(durrep)) # timespace representation\n",
    "\n",
    "        pitchspace.append(nppsrep)\n",
    "        timespace.append(ts)\n",
    "\n",
    "        X = []; y = []\n",
    "        \n",
    "        for jj in range(len(ts)-1):\n",
    "            X.append(ts[jj]); X.append(ts[jj+1])\n",
    "            y.append(nppsrep[jj]); y.append(nppsrep[jj])\n",
    "            \n",
    "        # interpolate\n",
    "        X = np.asarray(X); y = np.asarray(y)\n",
    "        from sklearn.neighbors import KNeighborsRegressor\n",
    "        interpolator = KNeighborsRegressor(1)\n",
    "        interpolator.fit(X.reshape(-1, 1),y)\n",
    "        X = np.arange(0,np.max(ts),1.0/Fs)\n",
    "        PitchRep = interpolator.predict(X.reshape(-1, 1))\n",
    "\n",
    "        TimePitchTune.append(PitchRep)\n",
    "\n",
    "        # break it up into measures (6 * Fs samples)\n",
    "        try:\n",
    "            # Attempt to reshape\n",
    "            TimePitchBars.append(PitchRep.reshape(-1, int(6 * Fs)))\n",
    "        except ValueError:\n",
    "            print(f\"Error in reshaping song {df.title[ii]}, PitchRep length: {len(PitchRep)}. Padding the end with zeros.\")\n",
    "            # Optionally, pad or trim\n",
    "            PitchRep = np.pad(PitchRep, (0, int(6 * Fs) - len(PitchRep) % int(6 * Fs)), mode='constant')\n",
    "            TimePitchBars.append(PitchRep.reshape(-1, int(6 * Fs)))\n",
    "\n",
    "    df['timespace'] = timespace\n",
    "    df['pitchspace'] = pitchspace\n",
    "    df['TimePitchTune'] = TimePitchTune\n",
    "    df['TimePitchBars'] = TimePitchBars\n",
    "\n",
    "    df.to_pickle(data_path + collection_name +'_parsed.pkl')"
   ]
  }
 ],
 "metadata": {
  "kernelspec": {
   "display_name": "melodic-decomposition-ml",
   "language": "python",
   "name": "python3"
  },
  "language_info": {
   "codemirror_mode": {
    "name": "ipython",
    "version": 3
   },
   "file_extension": ".py",
   "mimetype": "text/x-python",
   "name": "python",
   "nbconvert_exporter": "python",
   "pygments_lexer": "ipython3",
   "version": "3.13.2"
  }
 },
 "nbformat": 4,
 "nbformat_minor": 2
}
